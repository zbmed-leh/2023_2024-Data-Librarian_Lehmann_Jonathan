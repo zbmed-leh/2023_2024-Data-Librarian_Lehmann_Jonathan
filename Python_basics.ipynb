{
 "cells": [
  {
   "cell_type": "markdown",
   "id": "495e3976",
   "metadata": {},
   "source": [
    "# Python Einführung\n",
    "\n",
    "Hier lernen wir Python.\n",
    "\n",
    "So schreibe **fett**\n",
    "So schreibe ich *kursiv*"
   ]
  },
  {
   "cell_type": "code",
   "execution_count": 6,
   "id": "69fa8534",
   "metadata": {},
   "outputs": [
    {
     "name": "stdout",
     "output_type": "stream",
     "text": [
      "Hallo zusammen\n"
     ]
    }
   ],
   "source": [
    "print (\"Hallo zusammen\")"
   ]
  },
  {
   "cell_type": "code",
   "execution_count": 7,
   "id": "15c94664",
   "metadata": {},
   "outputs": [
    {
     "name": "stdout",
     "output_type": "stream",
     "text": [
      "Something\n"
     ]
    }
   ],
   "source": [
    "# Dies ist ein Kommentar\n",
    "print (\"Something\")"
   ]
  },
  {
   "cell_type": "markdown",
   "id": "aab16694",
   "metadata": {},
   "source": [
    "# Einfache Datentypen"
   ]
  },
  {
   "cell_type": "code",
   "execution_count": 23,
   "id": "99b45b63",
   "metadata": {},
   "outputs": [],
   "source": [
    "# Variable mit Wertzuweisung\n",
    "name = \"Lovelace\""
   ]
  },
  {
   "cell_type": "code",
   "execution_count": 15,
   "id": "b155a47b",
   "metadata": {},
   "outputs": [
    {
     "data": {
      "text/plain": [
       "'Lovelace'"
      ]
     },
     "execution_count": 15,
     "metadata": {},
     "output_type": "execute_result"
    }
   ],
   "source": [
    "name\n",
    "'Lovelace'"
   ]
  },
  {
   "cell_type": "code",
   "execution_count": 17,
   "id": "326047e2",
   "metadata": {},
   "outputs": [],
   "source": [
    "#string/Zeichenkette"
   ]
  },
  {
   "cell_type": "code",
   "execution_count": 20,
   "id": "673209c4",
   "metadata": {},
   "outputs": [
    {
     "name": "stdout",
     "output_type": "stream",
     "text": [
      "Ada\n"
     ]
    }
   ],
   "source": [
    "first_name = \"Ada\"\n",
    "print (first_name)"
   ]
  },
  {
   "cell_type": "code",
   "execution_count": 18,
   "id": "cecc4325",
   "metadata": {},
   "outputs": [],
   "source": [
    "#Integer - Ganzzahlen"
   ]
  },
  {
   "cell_type": "code",
   "execution_count": 21,
   "id": "09ff7d5d",
   "metadata": {},
   "outputs": [
    {
     "name": "stdout",
     "output_type": "stream",
     "text": [
      "37\n"
     ]
    }
   ],
   "source": [
    "age = 37\n",
    "print (age)"
   ]
  },
  {
   "cell_type": "code",
   "execution_count": 22,
   "id": "24a817aa",
   "metadata": {},
   "outputs": [
    {
     "name": "stdout",
     "output_type": "stream",
     "text": [
      "The Zen of Python, by Tim Peters\n",
      "\n",
      "Beautiful is better than ugly.\n",
      "Explicit is better than implicit.\n",
      "Simple is better than complex.\n",
      "Complex is better than complicated.\n",
      "Flat is better than nested.\n",
      "Sparse is better than dense.\n",
      "Readability counts.\n",
      "Special cases aren't special enough to break the rules.\n",
      "Although practicality beats purity.\n",
      "Errors should never pass silently.\n",
      "Unless explicitly silenced.\n",
      "In the face of ambiguity, refuse the temptation to guess.\n",
      "There should be one-- and preferably only one --obvious way to do it.\n",
      "Although that way may not be obvious at first unless you're Dutch.\n",
      "Now is better than never.\n",
      "Although never is often better than *right* now.\n",
      "If the implementation is hard to explain, it's a bad idea.\n",
      "If the implementation is easy to explain, it may be a good idea.\n",
      "Namespaces are one honking great idea -- let's do more of those!\n"
     ]
    }
   ],
   "source": [
    "import this"
   ]
  },
  {
   "cell_type": "code",
   "execution_count": 24,
   "id": "54f934ce",
   "metadata": {},
   "outputs": [
    {
     "name": "stdout",
     "output_type": "stream",
     "text": [
      "1.7123\n"
     ]
    }
   ],
   "source": [
    "# float - Gleitkommazahlen\n",
    "size = 1.7123\n",
    "print (size)"
   ]
  },
  {
   "cell_type": "code",
   "execution_count": 25,
   "id": "da37e54c",
   "metadata": {},
   "outputs": [
    {
     "name": "stdout",
     "output_type": "stream",
     "text": [
      "True\n"
     ]
    }
   ],
   "source": [
    "# Boolean - Boolscher Wert\n",
    "knows_math = True\n",
    "print (knows_math)"
   ]
  },
  {
   "cell_type": "code",
   "execution_count": 26,
   "id": "9e2210c2",
   "metadata": {},
   "outputs": [
    {
     "name": "stdout",
     "output_type": "stream",
     "text": [
      "False\n"
     ]
    }
   ],
   "source": [
    "likes_gardening = False\n",
    "print (likes_gardening)"
   ]
  },
  {
   "cell_type": "code",
   "execution_count": 27,
   "id": "b7724c7a",
   "metadata": {},
   "outputs": [
    {
     "data": {
      "text/plain": [
       "str"
      ]
     },
     "execution_count": 27,
     "metadata": {},
     "output_type": "execute_result"
    }
   ],
   "source": [
    "type (name)"
   ]
  },
  {
   "cell_type": "code",
   "execution_count": 28,
   "id": "42063549",
   "metadata": {},
   "outputs": [
    {
     "data": {
      "text/plain": [
       "float"
      ]
     },
     "execution_count": 28,
     "metadata": {},
     "output_type": "execute_result"
    }
   ],
   "source": [
    "type (size)"
   ]
  },
  {
   "cell_type": "code",
   "execution_count": 29,
   "id": "7885a756",
   "metadata": {},
   "outputs": [
    {
     "data": {
      "text/plain": [
       "bool"
      ]
     },
     "execution_count": 29,
     "metadata": {},
     "output_type": "execute_result"
    }
   ],
   "source": [
    "type (likes_gardening)"
   ]
  },
  {
   "cell_type": "code",
   "execution_count": 30,
   "id": "cb7c7dd9",
   "metadata": {},
   "outputs": [
    {
     "data": {
      "text/plain": [
       "int"
      ]
     },
     "execution_count": 30,
     "metadata": {},
     "output_type": "execute_result"
    }
   ],
   "source": [
    "type (age)"
   ]
  },
  {
   "cell_type": "code",
   "execution_count": 32,
   "id": "e627651b",
   "metadata": {},
   "outputs": [
    {
     "data": {
      "text/plain": [
       "str"
      ]
     },
     "execution_count": 32,
     "metadata": {},
     "output_type": "execute_result"
    }
   ],
   "source": [
    "type (first_name)"
   ]
  },
  {
   "cell_type": "code",
   "execution_count": 33,
   "id": "a739b6e5",
   "metadata": {},
   "outputs": [
    {
     "data": {
      "text/plain": [
       "'Lovelace'"
      ]
     },
     "execution_count": 33,
     "metadata": {},
     "output_type": "execute_result"
    }
   ],
   "source": [
    "name"
   ]
  },
  {
   "cell_type": "code",
   "execution_count": 34,
   "id": "21e4248a",
   "metadata": {},
   "outputs": [
    {
     "data": {
      "text/plain": [
       "37"
      ]
     },
     "execution_count": 34,
     "metadata": {},
     "output_type": "execute_result"
    }
   ],
   "source": [
    "name\n",
    "age"
   ]
  },
  {
   "cell_type": "code",
   "execution_count": 35,
   "id": "9466418b",
   "metadata": {},
   "outputs": [
    {
     "name": "stdout",
     "output_type": "stream",
     "text": [
      "Lovelace\n",
      "37\n"
     ]
    }
   ],
   "source": [
    "print (name)\n",
    "print (age)"
   ]
  },
  {
   "cell_type": "code",
   "execution_count": 36,
   "id": "de28dbdd",
   "metadata": {},
   "outputs": [
    {
     "data": {
      "text/plain": [
       "21.608363020498746"
      ]
     },
     "execution_count": 36,
     "metadata": {},
     "output_type": "execute_result"
    }
   ],
   "source": [
    "age / size"
   ]
  },
  {
   "cell_type": "code",
   "execution_count": 37,
   "id": "c3d0557d",
   "metadata": {},
   "outputs": [
    {
     "data": {
      "text/plain": [
       "'LOVELACE'"
      ]
     },
     "execution_count": 37,
     "metadata": {},
     "output_type": "execute_result"
    }
   ],
   "source": [
    "name.upper ()"
   ]
  },
  {
   "cell_type": "code",
   "execution_count": 39,
   "id": "39bf6c29",
   "metadata": {},
   "outputs": [
    {
     "data": {
      "text/plain": [
       "1"
      ]
     },
     "execution_count": 39,
     "metadata": {},
     "output_type": "execute_result"
    }
   ],
   "source": [
    "name.count (\"o\")"
   ]
  },
  {
   "cell_type": "code",
   "execution_count": 41,
   "id": "5b823319",
   "metadata": {},
   "outputs": [
    {
     "data": {
      "text/plain": [
       "'Love is everywhere!'"
      ]
     },
     "execution_count": 41,
     "metadata": {},
     "output_type": "execute_result"
    }
   ],
   "source": [
    "name.replace(\"lace\", \" is everywhere!\")"
   ]
  },
  {
   "cell_type": "markdown",
   "id": "d6aad355",
   "metadata": {},
   "source": [
    "## Listen und Dictionaries"
   ]
  },
  {
   "cell_type": "code",
   "execution_count": 44,
   "id": "30104aad",
   "metadata": {},
   "outputs": [],
   "source": [
    "names = [\"a\" , \"b\" , \"c\" , \"d\"]"
   ]
  },
  {
   "cell_type": "code",
   "execution_count": 45,
   "id": "f55d36cc",
   "metadata": {},
   "outputs": [
    {
     "data": {
      "text/plain": [
       "['a', 'b', 'c', 'd']"
      ]
     },
     "execution_count": 45,
     "metadata": {},
     "output_type": "execute_result"
    }
   ],
   "source": [
    "names"
   ]
  },
  {
   "cell_type": "code",
   "execution_count": 46,
   "id": "3e6150cd",
   "metadata": {},
   "outputs": [
    {
     "data": {
      "text/plain": [
       "'a'"
      ]
     },
     "execution_count": 46,
     "metadata": {},
     "output_type": "execute_result"
    }
   ],
   "source": [
    "names [0]"
   ]
  },
  {
   "cell_type": "code",
   "execution_count": 47,
   "id": "4c250a6f",
   "metadata": {},
   "outputs": [
    {
     "ename": "IndexError",
     "evalue": "list index out of range",
     "output_type": "error",
     "traceback": [
      "\u001b[0;31m---------------------------------------------------------------------------\u001b[0m",
      "\u001b[0;31mIndexError\u001b[0m                                Traceback (most recent call last)",
      "Cell \u001b[0;32mIn[47], line 1\u001b[0m\n\u001b[0;32m----> 1\u001b[0m names [\u001b[38;5;241m5\u001b[39m]\n",
      "\u001b[0;31mIndexError\u001b[0m: list index out of range"
     ]
    }
   ],
   "source": [
    "names [5]"
   ]
  },
  {
   "cell_type": "code",
   "execution_count": 48,
   "id": "88381cb2",
   "metadata": {},
   "outputs": [
    {
     "data": {
      "text/plain": [
       "'d'"
      ]
     },
     "execution_count": 48,
     "metadata": {},
     "output_type": "execute_result"
    }
   ],
   "source": [
    "names [-1]"
   ]
  },
  {
   "cell_type": "code",
   "execution_count": 49,
   "id": "ef53c1d9",
   "metadata": {},
   "outputs": [],
   "source": [
    "# letzter EIntrag in der liste..."
   ]
  },
  {
   "cell_type": "code",
   "execution_count": 50,
   "id": "a2d45556",
   "metadata": {},
   "outputs": [
    {
     "data": {
      "text/plain": [
       "['a', 'b', 'c']"
      ]
     },
     "execution_count": 50,
     "metadata": {},
     "output_type": "execute_result"
    }
   ],
   "source": [
    "names [0:3]"
   ]
  },
  {
   "cell_type": "code",
   "execution_count": 51,
   "id": "862215d9",
   "metadata": {},
   "outputs": [
    {
     "data": {
      "text/plain": [
       "['a', 'b']"
      ]
     },
     "execution_count": 51,
     "metadata": {},
     "output_type": "execute_result"
    }
   ],
   "source": [
    "names [:2]"
   ]
  },
  {
   "cell_type": "code",
   "execution_count": 52,
   "id": "6fb04183",
   "metadata": {},
   "outputs": [
    {
     "data": {
      "text/plain": [
       "['c', 'd']"
      ]
     },
     "execution_count": 52,
     "metadata": {},
     "output_type": "execute_result"
    }
   ],
   "source": [
    "names [2:]"
   ]
  },
  {
   "cell_type": "code",
   "execution_count": 53,
   "id": "3b8ecaae",
   "metadata": {},
   "outputs": [],
   "source": [
    "authors_and_birth_years = {\"Lovelace\": 1815, \n",
    "                           \"Darwin\": 1809, \n",
    "                           \"Noether\": 1882, \n",
    "                           \"Hawking\": 1942} "
   ]
  },
  {
   "cell_type": "code",
   "execution_count": 54,
   "id": "fb0fdbe0",
   "metadata": {},
   "outputs": [
    {
     "data": {
      "text/plain": [
       "1809"
      ]
     },
     "execution_count": 54,
     "metadata": {},
     "output_type": "execute_result"
    }
   ],
   "source": [
    "authors_and_birth_years [\"Darwin\"]"
   ]
  },
  {
   "cell_type": "code",
   "execution_count": 59,
   "id": "2fa201a8",
   "metadata": {},
   "outputs": [
    {
     "name": "stdout",
     "output_type": "stream",
     "text": [
      "a did stuff.\n",
      "------\n",
      "b did stuff.\n",
      "------\n",
      "c did stuff.\n",
      "------\n",
      "d did stuff.\n",
      "------\n"
     ]
    }
   ],
   "source": [
    "for person in names:\n",
    "    print (person + \" did stuff.\")\n",
    "    print (\"------\")"
   ]
  },
  {
   "cell_type": "markdown",
   "id": "0204b81d",
   "metadata": {},
   "source": [
    "## Bedingte Anweisungen (Conditionals)"
   ]
  },
  {
   "cell_type": "code",
   "execution_count": 60,
   "id": "5cca498b",
   "metadata": {},
   "outputs": [
    {
     "name": "stdout",
     "output_type": "stream",
     "text": [
      "Es ist warm!\n"
     ]
    }
   ],
   "source": [
    "temp = 20\n",
    "if temp > 15:\n",
    "    print (\"Es ist warm!\")\n",
    "    \n",
    "    "
   ]
  },
  {
   "cell_type": "code",
   "execution_count": 61,
   "id": "c9ea1272",
   "metadata": {},
   "outputs": [
    {
     "data": {
      "text/plain": [
       "True"
      ]
     },
     "execution_count": 61,
     "metadata": {},
     "output_type": "execute_result"
    }
   ],
   "source": [
    "100+9-7>78"
   ]
  },
  {
   "cell_type": "code",
   "execution_count": 75,
   "id": "bd6b2734",
   "metadata": {},
   "outputs": [
    {
     "name": "stdout",
     "output_type": "stream",
     "text": [
      "Es ist heiß\n"
     ]
    }
   ],
   "source": [
    "temp = 40\n",
    "if temp > 25:\n",
    "    print(\"Es ist heiß\")\n",
    "elif temp >= 15:\n",
    "    print(\"Es ist warm!\")\n",
    "else:\n",
    "    print(\"Es ist kalt!\")"
   ]
  },
  {
   "cell_type": "code",
   "execution_count": null,
   "id": "97e5472a",
   "metadata": {},
   "outputs": [],
   "source": []
  }
 ],
 "metadata": {
  "kernelspec": {
   "display_name": "Python 3 (ipykernel)",
   "language": "python",
   "name": "python3"
  },
  "language_info": {
   "codemirror_mode": {
    "name": "ipython",
    "version": 3
   },
   "file_extension": ".py",
   "mimetype": "text/x-python",
   "name": "python",
   "nbconvert_exporter": "python",
   "pygments_lexer": "ipython3",
   "version": "3.11.5"
  }
 },
 "nbformat": 4,
 "nbformat_minor": 5
}
