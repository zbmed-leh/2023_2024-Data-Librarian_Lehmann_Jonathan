{
 "cells": [
  {
   "cell_type": "code",
   "execution_count": 3,
   "id": "24041f7a",
   "metadata": {},
   "outputs": [
    {
     "name": "stdout",
     "output_type": "stream",
     "text": [
      "['False', 'None', 'True', 'and', 'as', 'assert', 'async', 'await', 'break', 'class', 'continue', 'def', 'del', 'elif', 'else', 'except', 'finally', 'for', 'from', 'global', 'if', 'import', 'in', 'is', 'lambda', 'nonlocal', 'not', 'or', 'pass', 'raise', 'return', 'try', 'while', 'with', 'yield']\n"
     ]
    }
   ],
   "source": [
    "import keyword\n",
    "print (keyword.kwlist)"
   ]
  },
  {
   "cell_type": "code",
   "execution_count": null,
   "id": "c0542e08",
   "metadata": {},
   "outputs": [],
   "source": [
    "# lambda erzeugt anonyme Funktionen"
   ]
  },
  {
   "cell_type": "code",
   "execution_count": 4,
   "id": "6dc204b9",
   "metadata": {},
   "outputs": [],
   "source": [
    "def my_upper (string):\n",
    "    return string.upper ()"
   ]
  },
  {
   "cell_type": "code",
   "execution_count": 5,
   "id": "2436b69f",
   "metadata": {},
   "outputs": [
    {
     "data": {
      "text/plain": [
       "'blabla'"
      ]
     },
     "execution_count": 5,
     "metadata": {},
     "output_type": "execute_result"
    }
   ],
   "source": [
    "\"blabla\""
   ]
  },
  {
   "cell_type": "code",
   "execution_count": 6,
   "id": "1e8469ce",
   "metadata": {},
   "outputs": [
    {
     "data": {
      "text/plain": [
       "'BLABLA'"
      ]
     },
     "execution_count": 6,
     "metadata": {},
     "output_type": "execute_result"
    }
   ],
   "source": [
    "my_upper (\"blabla\")"
   ]
  },
  {
   "cell_type": "code",
   "execution_count": null,
   "id": "9e801efc",
   "metadata": {},
   "outputs": [],
   "source": [
    "n"
   ]
  }
 ],
 "metadata": {
  "kernelspec": {
   "display_name": "Python 3 (ipykernel)",
   "language": "python",
   "name": "python3"
  },
  "language_info": {
   "codemirror_mode": {
    "name": "ipython",
    "version": 3
   },
   "file_extension": ".py",
   "mimetype": "text/x-python",
   "name": "python",
   "nbconvert_exporter": "python",
   "pygments_lexer": "ipython3",
   "version": "3.11.5"
  }
 },
 "nbformat": 4,
 "nbformat_minor": 5
}
