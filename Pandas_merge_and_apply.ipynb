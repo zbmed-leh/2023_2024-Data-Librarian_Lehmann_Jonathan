{
 "cells": [
  {
   "cell_type": "code",
   "execution_count": 2,
   "id": "22a384df",
   "metadata": {},
   "outputs": [],
   "source": [
    "import pandas as pd"
   ]
  },
  {
   "cell_type": "code",
   "execution_count": 3,
   "id": "bc0cdcde",
   "metadata": {},
   "outputs": [],
   "source": [
    "doi_df_journal = pd.DataFrame({\n",
    "    \"DOI\": [\n",
    "        \"10.1371/journal.pcbi.1004668\",\n",
    "        \"10.21105/joss.01035\",\n",
    "        \"10.12688/f1000research.18866.2\",\n",
    "        \"10.1038/s41598-019-52881-4\",\n",
    "        \"10.1186/s12859-019-3171-0\"],\n",
    "    \"journal\": [\n",
    "        \"PLoS Comput Biol\",\n",
    "        \"JOSS\",\n",
    "        \"F1000Res\",\n",
    "        \"Sci Rep\",\n",
    "        \"BMC Bioinformatics\"]})\n",
    "\n",
    "doi_df_first_author = pd.DataFrame({\n",
    "    \"DOI\": [\n",
    "        \"10.1371/journal.pcbi.1004668\",\n",
    "        \"10.21105/joss.01035\",\n",
    "        \"10.21105/joss.01006\",\n",
    "        \"10.12688/f1000research.18866.2\",\n",
    "        \"10.1186/s12859-019-3171-0\"],\n",
    "    \"first_author\": [\n",
    "        \"Blischak\",\n",
    "        \"Sparks\",\n",
    "        \"Granger\",\n",
    "        \"Thang\",\n",
    "        \"Chen\"]})"
   ]
  },
  {
   "cell_type": "code",
   "execution_count": 4,
   "id": "9ecee354",
   "metadata": {},
   "outputs": [
    {
     "data": {
      "text/html": [
       "<div>\n",
       "<style scoped>\n",
       "    .dataframe tbody tr th:only-of-type {\n",
       "        vertical-align: middle;\n",
       "    }\n",
       "\n",
       "    .dataframe tbody tr th {\n",
       "        vertical-align: top;\n",
       "    }\n",
       "\n",
       "    .dataframe thead th {\n",
       "        text-align: right;\n",
       "    }\n",
       "</style>\n",
       "<table border=\"1\" class=\"dataframe\">\n",
       "  <thead>\n",
       "    <tr style=\"text-align: right;\">\n",
       "      <th></th>\n",
       "      <th>DOI</th>\n",
       "      <th>first_author</th>\n",
       "    </tr>\n",
       "  </thead>\n",
       "  <tbody>\n",
       "    <tr>\n",
       "      <th>0</th>\n",
       "      <td>10.1371/journal.pcbi.1004668</td>\n",
       "      <td>Blischak</td>\n",
       "    </tr>\n",
       "    <tr>\n",
       "      <th>1</th>\n",
       "      <td>10.21105/joss.01035</td>\n",
       "      <td>Sparks</td>\n",
       "    </tr>\n",
       "    <tr>\n",
       "      <th>2</th>\n",
       "      <td>10.21105/joss.01006</td>\n",
       "      <td>Granger</td>\n",
       "    </tr>\n",
       "    <tr>\n",
       "      <th>3</th>\n",
       "      <td>10.12688/f1000research.18866.2</td>\n",
       "      <td>Thang</td>\n",
       "    </tr>\n",
       "    <tr>\n",
       "      <th>4</th>\n",
       "      <td>10.1186/s12859-019-3171-0</td>\n",
       "      <td>Chen</td>\n",
       "    </tr>\n",
       "  </tbody>\n",
       "</table>\n",
       "</div>"
      ],
      "text/plain": [
       "                              DOI first_author\n",
       "0    10.1371/journal.pcbi.1004668     Blischak\n",
       "1             10.21105/joss.01035       Sparks\n",
       "2             10.21105/joss.01006      Granger\n",
       "3  10.12688/f1000research.18866.2        Thang\n",
       "4       10.1186/s12859-019-3171-0         Chen"
      ]
     },
     "execution_count": 4,
     "metadata": {},
     "output_type": "execute_result"
    }
   ],
   "source": [
    "doi_df_first_author"
   ]
  },
  {
   "cell_type": "code",
   "execution_count": 5,
   "id": "8aa7ba23",
   "metadata": {},
   "outputs": [
    {
     "data": {
      "text/html": [
       "<div>\n",
       "<style scoped>\n",
       "    .dataframe tbody tr th:only-of-type {\n",
       "        vertical-align: middle;\n",
       "    }\n",
       "\n",
       "    .dataframe tbody tr th {\n",
       "        vertical-align: top;\n",
       "    }\n",
       "\n",
       "    .dataframe thead th {\n",
       "        text-align: right;\n",
       "    }\n",
       "</style>\n",
       "<table border=\"1\" class=\"dataframe\">\n",
       "  <thead>\n",
       "    <tr style=\"text-align: right;\">\n",
       "      <th></th>\n",
       "      <th>DOI</th>\n",
       "      <th>journal</th>\n",
       "    </tr>\n",
       "  </thead>\n",
       "  <tbody>\n",
       "    <tr>\n",
       "      <th>0</th>\n",
       "      <td>10.1371/journal.pcbi.1004668</td>\n",
       "      <td>PLoS Comput Biol</td>\n",
       "    </tr>\n",
       "    <tr>\n",
       "      <th>1</th>\n",
       "      <td>10.21105/joss.01035</td>\n",
       "      <td>JOSS</td>\n",
       "    </tr>\n",
       "    <tr>\n",
       "      <th>2</th>\n",
       "      <td>10.12688/f1000research.18866.2</td>\n",
       "      <td>F1000Res</td>\n",
       "    </tr>\n",
       "    <tr>\n",
       "      <th>3</th>\n",
       "      <td>10.1038/s41598-019-52881-4</td>\n",
       "      <td>Sci Rep</td>\n",
       "    </tr>\n",
       "    <tr>\n",
       "      <th>4</th>\n",
       "      <td>10.1186/s12859-019-3171-0</td>\n",
       "      <td>BMC Bioinformatics</td>\n",
       "    </tr>\n",
       "  </tbody>\n",
       "</table>\n",
       "</div>"
      ],
      "text/plain": [
       "                              DOI             journal\n",
       "0    10.1371/journal.pcbi.1004668    PLoS Comput Biol\n",
       "1             10.21105/joss.01035                JOSS\n",
       "2  10.12688/f1000research.18866.2            F1000Res\n",
       "3      10.1038/s41598-019-52881-4             Sci Rep\n",
       "4       10.1186/s12859-019-3171-0  BMC Bioinformatics"
      ]
     },
     "execution_count": 5,
     "metadata": {},
     "output_type": "execute_result"
    }
   ],
   "source": [
    "doi_df_journal"
   ]
  },
  {
   "cell_type": "markdown",
   "id": "f7486b9b",
   "metadata": {},
   "source": [
    "# Inner Join (merge)"
   ]
  },
  {
   "cell_type": "code",
   "execution_count": 8,
   "id": "816830ff",
   "metadata": {},
   "outputs": [
    {
     "data": {
      "text/html": [
       "<div>\n",
       "<style scoped>\n",
       "    .dataframe tbody tr th:only-of-type {\n",
       "        vertical-align: middle;\n",
       "    }\n",
       "\n",
       "    .dataframe tbody tr th {\n",
       "        vertical-align: top;\n",
       "    }\n",
       "\n",
       "    .dataframe thead th {\n",
       "        text-align: right;\n",
       "    }\n",
       "</style>\n",
       "<table border=\"1\" class=\"dataframe\">\n",
       "  <thead>\n",
       "    <tr style=\"text-align: right;\">\n",
       "      <th></th>\n",
       "      <th>DOI</th>\n",
       "      <th>first_author</th>\n",
       "      <th>journal</th>\n",
       "    </tr>\n",
       "  </thead>\n",
       "  <tbody>\n",
       "    <tr>\n",
       "      <th>0</th>\n",
       "      <td>10.1371/journal.pcbi.1004668</td>\n",
       "      <td>Blischak</td>\n",
       "      <td>PLoS Comput Biol</td>\n",
       "    </tr>\n",
       "    <tr>\n",
       "      <th>1</th>\n",
       "      <td>10.21105/joss.01035</td>\n",
       "      <td>Sparks</td>\n",
       "      <td>JOSS</td>\n",
       "    </tr>\n",
       "    <tr>\n",
       "      <th>2</th>\n",
       "      <td>10.21105/joss.01006</td>\n",
       "      <td>Granger</td>\n",
       "      <td>NaN</td>\n",
       "    </tr>\n",
       "    <tr>\n",
       "      <th>3</th>\n",
       "      <td>10.12688/f1000research.18866.2</td>\n",
       "      <td>Thang</td>\n",
       "      <td>F1000Res</td>\n",
       "    </tr>\n",
       "    <tr>\n",
       "      <th>4</th>\n",
       "      <td>10.1186/s12859-019-3171-0</td>\n",
       "      <td>Chen</td>\n",
       "      <td>BMC Bioinformatics</td>\n",
       "    </tr>\n",
       "  </tbody>\n",
       "</table>\n",
       "</div>"
      ],
      "text/plain": [
       "                              DOI first_author             journal\n",
       "0    10.1371/journal.pcbi.1004668     Blischak    PLoS Comput Biol\n",
       "1             10.21105/joss.01035       Sparks                JOSS\n",
       "2             10.21105/joss.01006      Granger                 NaN\n",
       "3  10.12688/f1000research.18866.2        Thang            F1000Res\n",
       "4       10.1186/s12859-019-3171-0         Chen  BMC Bioinformatics"
      ]
     },
     "execution_count": 8,
     "metadata": {},
     "output_type": "execute_result"
    }
   ],
   "source": [
    "doi_df_first_author.merge(doi_df_journal, on =\"DOI\", how=\"left\")"
   ]
  },
  {
   "cell_type": "code",
   "execution_count": 9,
   "id": "d78dae27",
   "metadata": {},
   "outputs": [
    {
     "data": {
      "text/html": [
       "<div>\n",
       "<style scoped>\n",
       "    .dataframe tbody tr th:only-of-type {\n",
       "        vertical-align: middle;\n",
       "    }\n",
       "\n",
       "    .dataframe tbody tr th {\n",
       "        vertical-align: top;\n",
       "    }\n",
       "\n",
       "    .dataframe thead th {\n",
       "        text-align: right;\n",
       "    }\n",
       "</style>\n",
       "<table border=\"1\" class=\"dataframe\">\n",
       "  <thead>\n",
       "    <tr style=\"text-align: right;\">\n",
       "      <th></th>\n",
       "      <th>DOI</th>\n",
       "      <th>first_author</th>\n",
       "      <th>journal</th>\n",
       "    </tr>\n",
       "  </thead>\n",
       "  <tbody>\n",
       "    <tr>\n",
       "      <th>0</th>\n",
       "      <td>10.1371/journal.pcbi.1004668</td>\n",
       "      <td>Blischak</td>\n",
       "      <td>PLoS Comput Biol</td>\n",
       "    </tr>\n",
       "    <tr>\n",
       "      <th>1</th>\n",
       "      <td>10.21105/joss.01035</td>\n",
       "      <td>Sparks</td>\n",
       "      <td>JOSS</td>\n",
       "    </tr>\n",
       "    <tr>\n",
       "      <th>2</th>\n",
       "      <td>10.12688/f1000research.18866.2</td>\n",
       "      <td>Thang</td>\n",
       "      <td>F1000Res</td>\n",
       "    </tr>\n",
       "    <tr>\n",
       "      <th>3</th>\n",
       "      <td>10.1038/s41598-019-52881-4</td>\n",
       "      <td>NaN</td>\n",
       "      <td>Sci Rep</td>\n",
       "    </tr>\n",
       "    <tr>\n",
       "      <th>4</th>\n",
       "      <td>10.1186/s12859-019-3171-0</td>\n",
       "      <td>Chen</td>\n",
       "      <td>BMC Bioinformatics</td>\n",
       "    </tr>\n",
       "  </tbody>\n",
       "</table>\n",
       "</div>"
      ],
      "text/plain": [
       "                              DOI first_author             journal\n",
       "0    10.1371/journal.pcbi.1004668     Blischak    PLoS Comput Biol\n",
       "1             10.21105/joss.01035       Sparks                JOSS\n",
       "2  10.12688/f1000research.18866.2        Thang            F1000Res\n",
       "3      10.1038/s41598-019-52881-4          NaN             Sci Rep\n",
       "4       10.1186/s12859-019-3171-0         Chen  BMC Bioinformatics"
      ]
     },
     "execution_count": 9,
     "metadata": {},
     "output_type": "execute_result"
    }
   ],
   "source": [
    "doi_df_first_author.merge(doi_df_journal, on =\"DOI\", how=\"right\")"
   ]
  },
  {
   "cell_type": "markdown",
   "id": "b0592c6e",
   "metadata": {},
   "source": [
    "## Outer join (merge)"
   ]
  },
  {
   "cell_type": "code",
   "execution_count": 10,
   "id": "9f7c23f2",
   "metadata": {
    "scrolled": true
   },
   "outputs": [
    {
     "data": {
      "text/html": [
       "<div>\n",
       "<style scoped>\n",
       "    .dataframe tbody tr th:only-of-type {\n",
       "        vertical-align: middle;\n",
       "    }\n",
       "\n",
       "    .dataframe tbody tr th {\n",
       "        vertical-align: top;\n",
       "    }\n",
       "\n",
       "    .dataframe thead th {\n",
       "        text-align: right;\n",
       "    }\n",
       "</style>\n",
       "<table border=\"1\" class=\"dataframe\">\n",
       "  <thead>\n",
       "    <tr style=\"text-align: right;\">\n",
       "      <th></th>\n",
       "      <th>DOI</th>\n",
       "      <th>first_author</th>\n",
       "      <th>journal</th>\n",
       "    </tr>\n",
       "  </thead>\n",
       "  <tbody>\n",
       "    <tr>\n",
       "      <th>0</th>\n",
       "      <td>10.1371/journal.pcbi.1004668</td>\n",
       "      <td>Blischak</td>\n",
       "      <td>PLoS Comput Biol</td>\n",
       "    </tr>\n",
       "    <tr>\n",
       "      <th>1</th>\n",
       "      <td>10.21105/joss.01035</td>\n",
       "      <td>Sparks</td>\n",
       "      <td>JOSS</td>\n",
       "    </tr>\n",
       "    <tr>\n",
       "      <th>2</th>\n",
       "      <td>10.21105/joss.01006</td>\n",
       "      <td>Granger</td>\n",
       "      <td>NaN</td>\n",
       "    </tr>\n",
       "    <tr>\n",
       "      <th>3</th>\n",
       "      <td>10.12688/f1000research.18866.2</td>\n",
       "      <td>Thang</td>\n",
       "      <td>F1000Res</td>\n",
       "    </tr>\n",
       "    <tr>\n",
       "      <th>4</th>\n",
       "      <td>10.1186/s12859-019-3171-0</td>\n",
       "      <td>Chen</td>\n",
       "      <td>BMC Bioinformatics</td>\n",
       "    </tr>\n",
       "    <tr>\n",
       "      <th>5</th>\n",
       "      <td>10.1038/s41598-019-52881-4</td>\n",
       "      <td>NaN</td>\n",
       "      <td>Sci Rep</td>\n",
       "    </tr>\n",
       "  </tbody>\n",
       "</table>\n",
       "</div>"
      ],
      "text/plain": [
       "                              DOI first_author             journal\n",
       "0    10.1371/journal.pcbi.1004668     Blischak    PLoS Comput Biol\n",
       "1             10.21105/joss.01035       Sparks                JOSS\n",
       "2             10.21105/joss.01006      Granger                 NaN\n",
       "3  10.12688/f1000research.18866.2        Thang            F1000Res\n",
       "4       10.1186/s12859-019-3171-0         Chen  BMC Bioinformatics\n",
       "5      10.1038/s41598-019-52881-4          NaN             Sci Rep"
      ]
     },
     "execution_count": 10,
     "metadata": {},
     "output_type": "execute_result"
    }
   ],
   "source": [
    "doi_df_first_author.merge(doi_df_journal, on =\"DOI\", how=\"outer\")"
   ]
  },
  {
   "cell_type": "markdown",
   "id": "dcac4893",
   "metadata": {},
   "source": [
    "## Wenn auf Spalten mit verschiedenen Namen gemerged werden soll"
   ]
  },
  {
   "cell_type": "code",
   "execution_count": 14,
   "id": "6ea19b02",
   "metadata": {},
   "outputs": [],
   "source": [
    "doi_df_journal = pd.DataFrame({\n",
    "    \"DOI\": [\n",
    "        \"10.1371/journal.pcbi.1004668\",\n",
    "        \"10.21105/joss.01035\",\n",
    "        \"10.12688/f1000research.18866.2\",\n",
    "        \"10.1038/s41598-019-52881-4\",\n",
    "        \"10.1186/s12859-019-3171-0\"],\n",
    "    \"journal\": [\n",
    "        \"PLoS Comput Biol\",\n",
    "        \"JOSS\",\n",
    "        \"F1000Res\",\n",
    "        \"Sci Rep\",\n",
    "        \"BMC Bioinformatics\"]})\n",
    "\n",
    "doi_df_first_author = pd.DataFrame({\n",
    "    \"article_doi\": [\n",
    "        \"10.1371/journal.pcbi.1004668\",\n",
    "        \"10.21105/joss.01035\",\n",
    "        \"10.21105/joss.01006\",\n",
    "        \"10.12688/f1000research.18866.2\",\n",
    "        \"10.1186/s12859-019-3171-0\"],\n",
    "    \"first_author\": [\n",
    "        \"Blischak\",\n",
    "        \"Sparks\",\n",
    "        \"Granger\",\n",
    "        \"Thang\",\n",
    "        \"Chen\"]})"
   ]
  },
  {
   "cell_type": "code",
   "execution_count": 27,
   "id": "220d1908",
   "metadata": {},
   "outputs": [
    {
     "ename": "SyntaxError",
     "evalue": "invalid syntax. Perhaps you forgot a comma? (328777752.py, line 1)",
     "output_type": "error",
     "traceback": [
      "\u001b[0;36m  Cell \u001b[0;32mIn[27], line 1\u001b[0;36m\u001b[0m\n\u001b[0;31m    doi_df_first_author.merge(doi_df_journal, left on = \"article_doi\", right on = \"DOI\", how=\"inner\")\u001b[0m\n\u001b[0m                                              ^\u001b[0m\n\u001b[0;31mSyntaxError\u001b[0m\u001b[0;31m:\u001b[0m invalid syntax. Perhaps you forgot a comma?\n"
     ]
    }
   ],
   "source": [
    "doi_df_first_author.merge(doi_df_journal, left on = \"article_doi\", right on = \"DOI\", how=\"inner\")\n"
   ]
  },
  {
   "cell_type": "code",
   "execution_count": 51,
   "id": "bd3fe8ef",
   "metadata": {},
   "outputs": [],
   "source": [
    "doi_df_first_author_2 = pd.DataFrame({\n",
    "    \"DOIs\": [\n",
    "        \"10.1371/journal.pcbi.1004668\",\n",
    "        \"10.21105/joss.01035\",\n",
    "        \"10.21105/joss.01006\",\n",
    "        \"10.12688/f1000research.18866.2\",\n",
    "        \"10.1186/s12859-019-3171-0\"],\n",
    "    \"first_author\": [\n",
    "        \"Blischak J.\",\n",
    "        \"Sparks Adam H.\",\n",
    "        \"Granger Nicolas\",\n",
    "        \"Thang\",\n",
    "        \"Chen Danze\"]})"
   ]
  },
  {
   "cell_type": "code",
   "execution_count": 24,
   "id": "a004d834",
   "metadata": {},
   "outputs": [
    {
     "data": {
      "text/html": [
       "<div>\n",
       "<style scoped>\n",
       "    .dataframe tbody tr th:only-of-type {\n",
       "        vertical-align: middle;\n",
       "    }\n",
       "\n",
       "    .dataframe tbody tr th {\n",
       "        vertical-align: top;\n",
       "    }\n",
       "\n",
       "    .dataframe thead th {\n",
       "        text-align: right;\n",
       "    }\n",
       "</style>\n",
       "<table border=\"1\" class=\"dataframe\">\n",
       "  <thead>\n",
       "    <tr style=\"text-align: right;\">\n",
       "      <th></th>\n",
       "      <th>DOIs</th>\n",
       "      <th>first_author</th>\n",
       "    </tr>\n",
       "  </thead>\n",
       "  <tbody>\n",
       "    <tr>\n",
       "      <th>0</th>\n",
       "      <td>10.1371/journal.pcbi.1004668</td>\n",
       "      <td>Blischak J.</td>\n",
       "    </tr>\n",
       "    <tr>\n",
       "      <th>1</th>\n",
       "      <td>10.21105/joss.01035</td>\n",
       "      <td>Sparks Adam H.</td>\n",
       "    </tr>\n",
       "    <tr>\n",
       "      <th>2</th>\n",
       "      <td>10.21105/joss.01006</td>\n",
       "      <td>Granger Nicolas</td>\n",
       "    </tr>\n",
       "    <tr>\n",
       "      <th>3</th>\n",
       "      <td>10.12688/f1000research.18866.2</td>\n",
       "      <td>Thang</td>\n",
       "    </tr>\n",
       "    <tr>\n",
       "      <th>4</th>\n",
       "      <td>10.1186/s12859-019-3171-0</td>\n",
       "      <td>Chen Danze</td>\n",
       "    </tr>\n",
       "  </tbody>\n",
       "</table>\n",
       "</div>"
      ],
      "text/plain": [
       "                             DOIs     first_author\n",
       "0    10.1371/journal.pcbi.1004668      Blischak J.\n",
       "1             10.21105/joss.01035   Sparks Adam H.\n",
       "2             10.21105/joss.01006  Granger Nicolas\n",
       "3  10.12688/f1000research.18866.2            Thang\n",
       "4       10.1186/s12859-019-3171-0       Chen Danze"
      ]
     },
     "execution_count": 24,
     "metadata": {},
     "output_type": "execute_result"
    }
   ],
   "source": [
    "c"
   ]
  },
  {
   "cell_type": "code",
   "execution_count": 28,
   "id": "afba940f",
   "metadata": {},
   "outputs": [
    {
     "data": {
      "text/plain": [
       "['Rosalind', 'Franklin']"
      ]
     },
     "execution_count": 28,
     "metadata": {},
     "output_type": "execute_result"
    }
   ],
   "source": [
    "\"Rosalind Franklin\".split (\" \")"
   ]
  },
  {
   "cell_type": "code",
   "execution_count": 29,
   "id": "fa0b0619",
   "metadata": {},
   "outputs": [
    {
     "data": {
      "text/plain": [
       "'Franklin'"
      ]
     },
     "execution_count": 29,
     "metadata": {},
     "output_type": "execute_result"
    }
   ],
   "source": [
    "\"Rosalind Franklin\".split (\" \") [1]"
   ]
  },
  {
   "cell_type": "code",
   "execution_count": 37,
   "id": "d8694940",
   "metadata": {},
   "outputs": [
    {
     "data": {
      "text/plain": [
       "0    Blischak\n",
       "1      Sparks\n",
       "2     Granger\n",
       "3       Thang\n",
       "4        Chen\n",
       "Name: first_author, dtype: object"
      ]
     },
     "execution_count": 37,
     "metadata": {},
     "output_type": "execute_result"
    }
   ],
   "source": [
    "doi_df_first_author_2[\"first_author\"].apply (\n",
    "    lambda author: author.split (\" \") [0]) "
   ]
  },
  {
   "cell_type": "code",
   "execution_count": 55,
   "id": "c752d632",
   "metadata": {},
   "outputs": [
    {
     "ename": "KeyError",
     "evalue": "'first_author'",
     "output_type": "error",
     "traceback": [
      "\u001b[0;31m---------------------------------------------------------------------------\u001b[0m",
      "\u001b[0;31mKeyError\u001b[0m                                  Traceback (most recent call last)",
      "File \u001b[0;32m~/anaconda3/lib/python3.11/site-packages/pandas/core/indexes/base.py:3653\u001b[0m, in \u001b[0;36mIndex.get_loc\u001b[0;34m(self, key)\u001b[0m\n\u001b[1;32m   3652\u001b[0m \u001b[38;5;28;01mtry\u001b[39;00m:\n\u001b[0;32m-> 3653\u001b[0m     \u001b[38;5;28;01mreturn\u001b[39;00m \u001b[38;5;28mself\u001b[39m\u001b[38;5;241m.\u001b[39m_engine\u001b[38;5;241m.\u001b[39mget_loc(casted_key)\n\u001b[1;32m   3654\u001b[0m \u001b[38;5;28;01mexcept\u001b[39;00m \u001b[38;5;167;01mKeyError\u001b[39;00m \u001b[38;5;28;01mas\u001b[39;00m err:\n",
      "File \u001b[0;32m~/anaconda3/lib/python3.11/site-packages/pandas/_libs/index.pyx:147\u001b[0m, in \u001b[0;36mpandas._libs.index.IndexEngine.get_loc\u001b[0;34m()\u001b[0m\n",
      "File \u001b[0;32m~/anaconda3/lib/python3.11/site-packages/pandas/_libs/index.pyx:176\u001b[0m, in \u001b[0;36mpandas._libs.index.IndexEngine.get_loc\u001b[0;34m()\u001b[0m\n",
      "File \u001b[0;32mpandas/_libs/hashtable_class_helper.pxi:7080\u001b[0m, in \u001b[0;36mpandas._libs.hashtable.PyObjectHashTable.get_item\u001b[0;34m()\u001b[0m\n",
      "File \u001b[0;32mpandas/_libs/hashtable_class_helper.pxi:7088\u001b[0m, in \u001b[0;36mpandas._libs.hashtable.PyObjectHashTable.get_item\u001b[0;34m()\u001b[0m\n",
      "\u001b[0;31mKeyError\u001b[0m: 'first_author'",
      "\nThe above exception was the direct cause of the following exception:\n",
      "\u001b[0;31mKeyError\u001b[0m                                  Traceback (most recent call last)",
      "Cell \u001b[0;32mIn[55], line 1\u001b[0m\n\u001b[0;32m----> 1\u001b[0m doi_df_first_author_2 [\u001b[38;5;124m\"\u001b[39m\u001b[38;5;124mlast name\u001b[39m\u001b[38;5;124m\"\u001b[39m] \u001b[38;5;241m=\u001b[39m doi_df_first_author_2[\u001b[38;5;124m\"\u001b[39m\u001b[38;5;124mfirst_author\u001b[39m\u001b[38;5;124m\"\u001b[39m]\u001b[38;5;241m.\u001b[39mapply (\n\u001b[1;32m      2\u001b[0m     \u001b[38;5;28;01mlambda\u001b[39;00m author: author\u001b[38;5;241m.\u001b[39msplit (\u001b[38;5;124m\"\u001b[39m\u001b[38;5;124m \u001b[39m\u001b[38;5;124m\"\u001b[39m) [\u001b[38;5;241m0\u001b[39m])\n",
      "File \u001b[0;32m~/anaconda3/lib/python3.11/site-packages/pandas/core/frame.py:3761\u001b[0m, in \u001b[0;36mDataFrame.__getitem__\u001b[0;34m(self, key)\u001b[0m\n\u001b[1;32m   3759\u001b[0m \u001b[38;5;28;01mif\u001b[39;00m \u001b[38;5;28mself\u001b[39m\u001b[38;5;241m.\u001b[39mcolumns\u001b[38;5;241m.\u001b[39mnlevels \u001b[38;5;241m>\u001b[39m \u001b[38;5;241m1\u001b[39m:\n\u001b[1;32m   3760\u001b[0m     \u001b[38;5;28;01mreturn\u001b[39;00m \u001b[38;5;28mself\u001b[39m\u001b[38;5;241m.\u001b[39m_getitem_multilevel(key)\n\u001b[0;32m-> 3761\u001b[0m indexer \u001b[38;5;241m=\u001b[39m \u001b[38;5;28mself\u001b[39m\u001b[38;5;241m.\u001b[39mcolumns\u001b[38;5;241m.\u001b[39mget_loc(key)\n\u001b[1;32m   3762\u001b[0m \u001b[38;5;28;01mif\u001b[39;00m is_integer(indexer):\n\u001b[1;32m   3763\u001b[0m     indexer \u001b[38;5;241m=\u001b[39m [indexer]\n",
      "File \u001b[0;32m~/anaconda3/lib/python3.11/site-packages/pandas/core/indexes/base.py:3655\u001b[0m, in \u001b[0;36mIndex.get_loc\u001b[0;34m(self, key)\u001b[0m\n\u001b[1;32m   3653\u001b[0m     \u001b[38;5;28;01mreturn\u001b[39;00m \u001b[38;5;28mself\u001b[39m\u001b[38;5;241m.\u001b[39m_engine\u001b[38;5;241m.\u001b[39mget_loc(casted_key)\n\u001b[1;32m   3654\u001b[0m \u001b[38;5;28;01mexcept\u001b[39;00m \u001b[38;5;167;01mKeyError\u001b[39;00m \u001b[38;5;28;01mas\u001b[39;00m err:\n\u001b[0;32m-> 3655\u001b[0m     \u001b[38;5;28;01mraise\u001b[39;00m \u001b[38;5;167;01mKeyError\u001b[39;00m(key) \u001b[38;5;28;01mfrom\u001b[39;00m \u001b[38;5;21;01merr\u001b[39;00m\n\u001b[1;32m   3656\u001b[0m \u001b[38;5;28;01mexcept\u001b[39;00m \u001b[38;5;167;01mTypeError\u001b[39;00m:\n\u001b[1;32m   3657\u001b[0m     \u001b[38;5;66;03m# If we have a listlike key, _check_indexing_error will raise\u001b[39;00m\n\u001b[1;32m   3658\u001b[0m     \u001b[38;5;66;03m#  InvalidIndexError. Otherwise we fall through and re-raise\u001b[39;00m\n\u001b[1;32m   3659\u001b[0m     \u001b[38;5;66;03m#  the TypeError.\u001b[39;00m\n\u001b[1;32m   3660\u001b[0m     \u001b[38;5;28mself\u001b[39m\u001b[38;5;241m.\u001b[39m_check_indexing_error(key)\n",
      "\u001b[0;31mKeyError\u001b[0m: 'first_author'"
     ]
    }
   ],
   "source": [
    "doi_df_first_author_2 [\"last name\"] = doi_df_first_author_2[\"first_author\"].apply (\n",
    "    lambda author: author.split (\" \") [0]) "
   ]
  },
  {
   "cell_type": "code",
   "execution_count": 40,
   "id": "ec0557c3",
   "metadata": {},
   "outputs": [
    {
     "data": {
      "text/html": [
       "<div>\n",
       "<style scoped>\n",
       "    .dataframe tbody tr th:only-of-type {\n",
       "        vertical-align: middle;\n",
       "    }\n",
       "\n",
       "    .dataframe tbody tr th {\n",
       "        vertical-align: top;\n",
       "    }\n",
       "\n",
       "    .dataframe thead th {\n",
       "        text-align: right;\n",
       "    }\n",
       "</style>\n",
       "<table border=\"1\" class=\"dataframe\">\n",
       "  <thead>\n",
       "    <tr style=\"text-align: right;\">\n",
       "      <th></th>\n",
       "      <th>DOIs</th>\n",
       "      <th>first_author</th>\n",
       "      <th>last name</th>\n",
       "    </tr>\n",
       "  </thead>\n",
       "  <tbody>\n",
       "    <tr>\n",
       "      <th>0</th>\n",
       "      <td>10.1371/journal.pcbi.1004668</td>\n",
       "      <td>Blischak J.</td>\n",
       "      <td>Blischak</td>\n",
       "    </tr>\n",
       "    <tr>\n",
       "      <th>1</th>\n",
       "      <td>10.21105/joss.01035</td>\n",
       "      <td>Sparks Adam H.</td>\n",
       "      <td>Sparks</td>\n",
       "    </tr>\n",
       "    <tr>\n",
       "      <th>2</th>\n",
       "      <td>10.21105/joss.01006</td>\n",
       "      <td>Granger Nicolas</td>\n",
       "      <td>Granger</td>\n",
       "    </tr>\n",
       "    <tr>\n",
       "      <th>3</th>\n",
       "      <td>10.12688/f1000research.18866.2</td>\n",
       "      <td>Thang</td>\n",
       "      <td>Thang</td>\n",
       "    </tr>\n",
       "    <tr>\n",
       "      <th>4</th>\n",
       "      <td>10.1186/s12859-019-3171-0</td>\n",
       "      <td>Chen Danze</td>\n",
       "      <td>Chen</td>\n",
       "    </tr>\n",
       "  </tbody>\n",
       "</table>\n",
       "</div>"
      ],
      "text/plain": [
       "                             DOIs     first_author last name\n",
       "0    10.1371/journal.pcbi.1004668      Blischak J.  Blischak\n",
       "1             10.21105/joss.01035   Sparks Adam H.    Sparks\n",
       "2             10.21105/joss.01006  Granger Nicolas   Granger\n",
       "3  10.12688/f1000research.18866.2            Thang     Thang\n",
       "4       10.1186/s12859-019-3171-0       Chen Danze      Chen"
      ]
     },
     "execution_count": 40,
     "metadata": {},
     "output_type": "execute_result"
    }
   ],
   "source": [
    "doi_df_first_author_2"
   ]
  },
  {
   "cell_type": "code",
   "execution_count": 52,
   "id": "2aad4eba",
   "metadata": {},
   "outputs": [
    {
     "ename": "KeyError",
     "evalue": "'first_name'",
     "output_type": "error",
     "traceback": [
      "\u001b[0;31m---------------------------------------------------------------------------\u001b[0m",
      "\u001b[0;31mKeyError\u001b[0m                                  Traceback (most recent call last)",
      "File \u001b[0;32m~/anaconda3/lib/python3.11/site-packages/pandas/core/indexes/base.py:3653\u001b[0m, in \u001b[0;36mIndex.get_loc\u001b[0;34m(self, key)\u001b[0m\n\u001b[1;32m   3652\u001b[0m \u001b[38;5;28;01mtry\u001b[39;00m:\n\u001b[0;32m-> 3653\u001b[0m     \u001b[38;5;28;01mreturn\u001b[39;00m \u001b[38;5;28mself\u001b[39m\u001b[38;5;241m.\u001b[39m_engine\u001b[38;5;241m.\u001b[39mget_loc(casted_key)\n\u001b[1;32m   3654\u001b[0m \u001b[38;5;28;01mexcept\u001b[39;00m \u001b[38;5;167;01mKeyError\u001b[39;00m \u001b[38;5;28;01mas\u001b[39;00m err:\n",
      "File \u001b[0;32m~/anaconda3/lib/python3.11/site-packages/pandas/_libs/index.pyx:147\u001b[0m, in \u001b[0;36mpandas._libs.index.IndexEngine.get_loc\u001b[0;34m()\u001b[0m\n",
      "File \u001b[0;32m~/anaconda3/lib/python3.11/site-packages/pandas/_libs/index.pyx:176\u001b[0m, in \u001b[0;36mpandas._libs.index.IndexEngine.get_loc\u001b[0;34m()\u001b[0m\n",
      "File \u001b[0;32mpandas/_libs/hashtable_class_helper.pxi:7080\u001b[0m, in \u001b[0;36mpandas._libs.hashtable.PyObjectHashTable.get_item\u001b[0;34m()\u001b[0m\n",
      "File \u001b[0;32mpandas/_libs/hashtable_class_helper.pxi:7088\u001b[0m, in \u001b[0;36mpandas._libs.hashtable.PyObjectHashTable.get_item\u001b[0;34m()\u001b[0m\n",
      "\u001b[0;31mKeyError\u001b[0m: 'first_name'",
      "\nThe above exception was the direct cause of the following exception:\n",
      "\u001b[0;31mKeyError\u001b[0m                                  Traceback (most recent call last)",
      "Cell \u001b[0;32mIn[52], line 1\u001b[0m\n\u001b[0;32m----> 1\u001b[0m doi_df_first_author_2[\u001b[38;5;124m\"\u001b[39m\u001b[38;5;124mfirst_name\u001b[39m\u001b[38;5;124m\"\u001b[39m]\u001b[38;5;241m.\u001b[39mapply (\n\u001b[1;32m      2\u001b[0m     \u001b[38;5;28;01mlambda\u001b[39;00m author:\u001b[38;5;124m\"\u001b[39m\u001b[38;5;124m \u001b[39m\u001b[38;5;124m\"\u001b[39m\u001b[38;5;241m.\u001b[39mjoin(author\u001b[38;5;241m.\u001b[39msplit (\u001b[38;5;124m\"\u001b[39m\u001b[38;5;124m \u001b[39m\u001b[38;5;124m\"\u001b[39m) [:\u001b[38;5;241m1\u001b[39m]))\n",
      "File \u001b[0;32m~/anaconda3/lib/python3.11/site-packages/pandas/core/frame.py:3761\u001b[0m, in \u001b[0;36mDataFrame.__getitem__\u001b[0;34m(self, key)\u001b[0m\n\u001b[1;32m   3759\u001b[0m \u001b[38;5;28;01mif\u001b[39;00m \u001b[38;5;28mself\u001b[39m\u001b[38;5;241m.\u001b[39mcolumns\u001b[38;5;241m.\u001b[39mnlevels \u001b[38;5;241m>\u001b[39m \u001b[38;5;241m1\u001b[39m:\n\u001b[1;32m   3760\u001b[0m     \u001b[38;5;28;01mreturn\u001b[39;00m \u001b[38;5;28mself\u001b[39m\u001b[38;5;241m.\u001b[39m_getitem_multilevel(key)\n\u001b[0;32m-> 3761\u001b[0m indexer \u001b[38;5;241m=\u001b[39m \u001b[38;5;28mself\u001b[39m\u001b[38;5;241m.\u001b[39mcolumns\u001b[38;5;241m.\u001b[39mget_loc(key)\n\u001b[1;32m   3762\u001b[0m \u001b[38;5;28;01mif\u001b[39;00m is_integer(indexer):\n\u001b[1;32m   3763\u001b[0m     indexer \u001b[38;5;241m=\u001b[39m [indexer]\n",
      "File \u001b[0;32m~/anaconda3/lib/python3.11/site-packages/pandas/core/indexes/base.py:3655\u001b[0m, in \u001b[0;36mIndex.get_loc\u001b[0;34m(self, key)\u001b[0m\n\u001b[1;32m   3653\u001b[0m     \u001b[38;5;28;01mreturn\u001b[39;00m \u001b[38;5;28mself\u001b[39m\u001b[38;5;241m.\u001b[39m_engine\u001b[38;5;241m.\u001b[39mget_loc(casted_key)\n\u001b[1;32m   3654\u001b[0m \u001b[38;5;28;01mexcept\u001b[39;00m \u001b[38;5;167;01mKeyError\u001b[39;00m \u001b[38;5;28;01mas\u001b[39;00m err:\n\u001b[0;32m-> 3655\u001b[0m     \u001b[38;5;28;01mraise\u001b[39;00m \u001b[38;5;167;01mKeyError\u001b[39;00m(key) \u001b[38;5;28;01mfrom\u001b[39;00m \u001b[38;5;21;01merr\u001b[39;00m\n\u001b[1;32m   3656\u001b[0m \u001b[38;5;28;01mexcept\u001b[39;00m \u001b[38;5;167;01mTypeError\u001b[39;00m:\n\u001b[1;32m   3657\u001b[0m     \u001b[38;5;66;03m# If we have a listlike key, _check_indexing_error will raise\u001b[39;00m\n\u001b[1;32m   3658\u001b[0m     \u001b[38;5;66;03m#  InvalidIndexError. Otherwise we fall through and re-raise\u001b[39;00m\n\u001b[1;32m   3659\u001b[0m     \u001b[38;5;66;03m#  the TypeError.\u001b[39;00m\n\u001b[1;32m   3660\u001b[0m     \u001b[38;5;28mself\u001b[39m\u001b[38;5;241m.\u001b[39m_check_indexing_error(key)\n",
      "\u001b[0;31mKeyError\u001b[0m: 'first_name'"
     ]
    }
   ],
   "source": [
    "doi_df_first_author_2[\"first_name\"].apply (\n",
    "    lambda author:\" \".join(author.split (\" \") [:1]))"
   ]
  },
  {
   "cell_type": "code",
   "execution_count": 42,
   "id": "4f4e2504",
   "metadata": {},
   "outputs": [
    {
     "data": {
      "text/html": [
       "<div>\n",
       "<style scoped>\n",
       "    .dataframe tbody tr th:only-of-type {\n",
       "        vertical-align: middle;\n",
       "    }\n",
       "\n",
       "    .dataframe tbody tr th {\n",
       "        vertical-align: top;\n",
       "    }\n",
       "\n",
       "    .dataframe thead th {\n",
       "        text-align: right;\n",
       "    }\n",
       "</style>\n",
       "<table border=\"1\" class=\"dataframe\">\n",
       "  <thead>\n",
       "    <tr style=\"text-align: right;\">\n",
       "      <th></th>\n",
       "      <th>DOIs</th>\n",
       "      <th>first_author</th>\n",
       "      <th>last name</th>\n",
       "    </tr>\n",
       "  </thead>\n",
       "  <tbody>\n",
       "    <tr>\n",
       "      <th>0</th>\n",
       "      <td>10.1371/journal.pcbi.1004668</td>\n",
       "      <td>Blischak J.</td>\n",
       "      <td>[Blischak]</td>\n",
       "    </tr>\n",
       "    <tr>\n",
       "      <th>1</th>\n",
       "      <td>10.21105/joss.01035</td>\n",
       "      <td>Sparks Adam H.</td>\n",
       "      <td>[Sparks]</td>\n",
       "    </tr>\n",
       "    <tr>\n",
       "      <th>2</th>\n",
       "      <td>10.21105/joss.01006</td>\n",
       "      <td>Granger Nicolas</td>\n",
       "      <td>[Granger]</td>\n",
       "    </tr>\n",
       "    <tr>\n",
       "      <th>3</th>\n",
       "      <td>10.12688/f1000research.18866.2</td>\n",
       "      <td>Thang</td>\n",
       "      <td>[Thang]</td>\n",
       "    </tr>\n",
       "    <tr>\n",
       "      <th>4</th>\n",
       "      <td>10.1186/s12859-019-3171-0</td>\n",
       "      <td>Chen Danze</td>\n",
       "      <td>[Chen]</td>\n",
       "    </tr>\n",
       "  </tbody>\n",
       "</table>\n",
       "</div>"
      ],
      "text/plain": [
       "                             DOIs     first_author   last name\n",
       "0    10.1371/journal.pcbi.1004668      Blischak J.  [Blischak]\n",
       "1             10.21105/joss.01035   Sparks Adam H.    [Sparks]\n",
       "2             10.21105/joss.01006  Granger Nicolas   [Granger]\n",
       "3  10.12688/f1000research.18866.2            Thang     [Thang]\n",
       "4       10.1186/s12859-019-3171-0       Chen Danze      [Chen]"
      ]
     },
     "execution_count": 42,
     "metadata": {},
     "output_type": "execute_result"
    }
   ],
   "source": []
  },
  {
   "cell_type": "code",
   "execution_count": 53,
   "id": "ac954b23",
   "metadata": {},
   "outputs": [],
   "source": [
    "del doi_df_first_author_2 [\"first_author\"]"
   ]
  },
  {
   "cell_type": "code",
   "execution_count": 56,
   "id": "d417af41",
   "metadata": {},
   "outputs": [
    {
     "data": {
      "text/html": [
       "<div>\n",
       "<style scoped>\n",
       "    .dataframe tbody tr th:only-of-type {\n",
       "        vertical-align: middle;\n",
       "    }\n",
       "\n",
       "    .dataframe tbody tr th {\n",
       "        vertical-align: top;\n",
       "    }\n",
       "\n",
       "    .dataframe thead th {\n",
       "        text-align: right;\n",
       "    }\n",
       "</style>\n",
       "<table border=\"1\" class=\"dataframe\">\n",
       "  <thead>\n",
       "    <tr style=\"text-align: right;\">\n",
       "      <th></th>\n",
       "      <th>DOIs</th>\n",
       "    </tr>\n",
       "  </thead>\n",
       "  <tbody>\n",
       "    <tr>\n",
       "      <th>0</th>\n",
       "      <td>10.1371/journal.pcbi.1004668</td>\n",
       "    </tr>\n",
       "    <tr>\n",
       "      <th>1</th>\n",
       "      <td>10.21105/joss.01035</td>\n",
       "    </tr>\n",
       "    <tr>\n",
       "      <th>2</th>\n",
       "      <td>10.21105/joss.01006</td>\n",
       "    </tr>\n",
       "    <tr>\n",
       "      <th>3</th>\n",
       "      <td>10.12688/f1000research.18866.2</td>\n",
       "    </tr>\n",
       "    <tr>\n",
       "      <th>4</th>\n",
       "      <td>10.1186/s12859-019-3171-0</td>\n",
       "    </tr>\n",
       "  </tbody>\n",
       "</table>\n",
       "</div>"
      ],
      "text/plain": [
       "                             DOIs\n",
       "0    10.1371/journal.pcbi.1004668\n",
       "1             10.21105/joss.01035\n",
       "2             10.21105/joss.01006\n",
       "3  10.12688/f1000research.18866.2\n",
       "4       10.1186/s12859-019-3171-0"
      ]
     },
     "execution_count": 56,
     "metadata": {},
     "output_type": "execute_result"
    }
   ],
   "source": [
    "doi_df_first_author_2"
   ]
  },
  {
   "cell_type": "code",
   "execution_count": 57,
   "id": "33affe83",
   "metadata": {},
   "outputs": [],
   "source": [
    "doi_df_first_author_2.to_csv (\"doi_.csv\")"
   ]
  },
  {
   "cell_type": "code",
   "execution_count": null,
   "id": "3e127f2f",
   "metadata": {},
   "outputs": [],
   "source": []
  }
 ],
 "metadata": {
  "kernelspec": {
   "display_name": "Python 3 (ipykernel)",
   "language": "python",
   "name": "python3"
  },
  "language_info": {
   "codemirror_mode": {
    "name": "ipython",
    "version": 3
   },
   "file_extension": ".py",
   "mimetype": "text/x-python",
   "name": "python",
   "nbconvert_exporter": "python",
   "pygments_lexer": "ipython3",
   "version": "3.11.5"
  }
 },
 "nbformat": 4,
 "nbformat_minor": 5
}
