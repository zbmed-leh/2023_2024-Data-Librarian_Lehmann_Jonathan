{
 "cells": [
  {
   "cell_type": "code",
   "execution_count": 1,
   "id": "f73bd244",
   "metadata": {},
   "outputs": [],
   "source": [
    "# unbereinigte ISBNs\n",
    "dirty_isbns = [\n",
    "    \" ISBN 978-3-518-58773-7 \", \n",
    "    \"ISBN___978-1491946008 \",\n",
    "    \"ISBN 978-1593276034\"]"
   ]
  },
  {
   "cell_type": "code",
   "execution_count": 2,
   "id": "af9bf20a",
   "metadata": {},
   "outputs": [],
   "source": [
    "def clean_isbn ():\n",
    "    isbn = \" ISBN 978-3-518-58773-7\"\n",
    "    print (isbn)"
   ]
  },
  {
   "cell_type": "code",
   "execution_count": 3,
   "id": "9b43f5f3",
   "metadata": {},
   "outputs": [
    {
     "name": "stdout",
     "output_type": "stream",
     "text": [
      " ISBN 978-3-518-58773-7\n"
     ]
    }
   ],
   "source": [
    "clean_isbn ()"
   ]
  },
  {
   "cell_type": "code",
   "execution_count": 9,
   "id": "ad2224b1",
   "metadata": {},
   "outputs": [
    {
     "name": "stdout",
     "output_type": "stream",
     "text": [
      "978-3-518-58773-7\n"
     ]
    }
   ],
   "source": [
    "def clean_isbn ():\n",
    "    isbn = \" ISBN 978-3-518-58773-7\"\n",
    "    isbn = isbn.replace (\"ISBN\", \"\")\n",
    "    isbn = isbn.strip ()\n",
    "    print (isbn)\n",
    "clean_isbn ()"
   ]
  },
  {
   "cell_type": "code",
   "execution_count": 27,
   "id": "073a5228",
   "metadata": {},
   "outputs": [],
   "source": [
    "def clean_isbn (isbn):\n",
    "    isbn = isbn.replace (\"ISBN\", \"\")\n",
    "    isbn = isbn.replace (\"-\", \"\")\n",
    "    isbn = isbn.replace (\"_\", \"\")\n",
    "    isbn = isbn.strip ()\n",
    "    return isbn "
   ]
  },
  {
   "cell_type": "code",
   "execution_count": 28,
   "id": "5b3d3850",
   "metadata": {},
   "outputs": [],
   "source": [
    "cleaned_isbn = clean_isbn (\" ISBN 978-3-518-58773-7 \")"
   ]
  },
  {
   "cell_type": "code",
   "execution_count": 29,
   "id": "58b1903d",
   "metadata": {},
   "outputs": [
    {
     "name": "stdout",
     "output_type": "stream",
     "text": [
      "9783518587737\n"
     ]
    }
   ],
   "source": [
    "print (cleaned_isbn)"
   ]
  },
  {
   "cell_type": "code",
   "execution_count": 30,
   "id": "b75d566a",
   "metadata": {},
   "outputs": [
    {
     "name": "stdout",
     "output_type": "stream",
     "text": [
      "9783518587737\n",
      "9781491946008\n",
      "9781593276034\n"
     ]
    }
   ],
   "source": [
    "for isbn in dirty_isbns:\n",
    "    cleaned_isbn = clean_isbn (isbn)\n",
    "    print (cleaned_isbn)"
   ]
  },
  {
   "cell_type": "code",
   "execution_count": 32,
   "id": "6392cbe6",
   "metadata": {},
   "outputs": [
    {
     "name": "stdout",
     "output_type": "stream",
     "text": [
      "Variable       Type        Data/Info\n",
      "------------------------------------\n",
      "clean_isbn     function    <function clean_isbn at 0x7f91a7242fc0>\n",
      "cleaned_isbn   str         9781593276034\n",
      "dirty_isbns    list        n=3\n",
      "isbn           str         ISBN 978-1593276034\n"
     ]
    }
   ],
   "source": [
    "%whos"
   ]
  },
  {
   "cell_type": "code",
   "execution_count": 33,
   "id": "b792619f",
   "metadata": {},
   "outputs": [
    {
     "name": "stdout",
     "output_type": "stream",
     "text": [
      "\u001b[31mERROR: You must give at least one requirement to install (see \"pip help install\")\u001b[0m\u001b[31m\r\n",
      "\u001b[0m"
     ]
    }
   ],
   "source": [
    "# zum installieren von beispielweise panda\n",
    "!pip install"
   ]
  },
  {
   "cell_type": "code",
   "execution_count": null,
   "id": "d45e32b4",
   "metadata": {},
   "outputs": [],
   "source": []
  }
 ],
 "metadata": {
  "kernelspec": {
   "display_name": "Python 3 (ipykernel)",
   "language": "python",
   "name": "python3"
  },
  "language_info": {
   "codemirror_mode": {
    "name": "ipython",
    "version": 3
   },
   "file_extension": ".py",
   "mimetype": "text/x-python",
   "name": "python",
   "nbconvert_exporter": "python",
   "pygments_lexer": "ipython3",
   "version": "3.11.5"
  }
 },
 "nbformat": 4,
 "nbformat_minor": 5
}
