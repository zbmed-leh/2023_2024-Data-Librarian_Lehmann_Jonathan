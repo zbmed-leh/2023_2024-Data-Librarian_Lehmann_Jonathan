{
 "cells": [
  {
   "cell_type": "code",
   "execution_count": 1,
   "id": "eaaeb9e4",
   "metadata": {},
   "outputs": [],
   "source": [
    "import urllib.request\n",
    "import json"
   ]
  },
  {
   "cell_type": "code",
   "execution_count": 4,
   "id": "3f4b1eac",
   "metadata": {},
   "outputs": [],
   "source": [
    "base_url = \"https://api.crossref.org/works/\"\n",
    "doi = \"10.1371/journal.pcbi.1004668\"\n",
    "full_url = base_url + doi"
   ]
  },
  {
   "cell_type": "code",
   "execution_count": 5,
   "id": "f57ae710",
   "metadata": {},
   "outputs": [],
   "source": [
    "doi_json_dataset = urllib.request.urlopen (full_url).read()"
   ]
  },
  {
   "cell_type": "code",
   "execution_count": 6,
   "id": "e5338bb0",
   "metadata": {},
   "outputs": [],
   "source": [
    "doi_dataset = json.loads (doi_json_dataset)"
   ]
  },
  {
   "cell_type": "code",
   "execution_count": 7,
   "id": "a08f71a7",
   "metadata": {},
   "outputs": [
    {
     "data": {
      "text/plain": [
       "{'status': 'ok',\n",
       " 'message-type': 'work',\n",
       " 'message-version': '1.0.0',\n",
       " 'message': {'indexed': {'date-parts': [[2023, 10, 23]],\n",
       "   'date-time': '2023-10-23T12:05:12Z',\n",
       "   'timestamp': 1698062712511},\n",
       "  'reference-count': 6,\n",
       "  'publisher': 'Public Library of Science (PLoS)',\n",
       "  'issue': '1',\n",
       "  'license': [{'start': {'date-parts': [[2016, 1, 19]],\n",
       "     'date-time': '2016-01-19T00:00:00Z',\n",
       "     'timestamp': 1453161600000},\n",
       "    'content-version': 'vor',\n",
       "    'delay-in-days': 0,\n",
       "    'URL': 'http://creativecommons.org/licenses/by/4.0/'}],\n",
       "  'content-domain': {'domain': ['www.ploscompbiol.org'],\n",
       "   'crossmark-restriction': False},\n",
       "  'short-container-title': ['PLoS Comput Biol'],\n",
       "  'DOI': '10.1371/journal.pcbi.1004668',\n",
       "  'type': 'journal-article',\n",
       "  'created': {'date-parts': [[2016, 1, 19]],\n",
       "   'date-time': '2016-01-19T21:35:29Z',\n",
       "   'timestamp': 1453239329000},\n",
       "  'page': 'e1004668',\n",
       "  'update-policy': 'http://dx.doi.org/10.1371/journal.pcbi.corrections_policy',\n",
       "  'source': 'Crossref',\n",
       "  'is-referenced-by-count': 86,\n",
       "  'title': ['A Quick Introduction to Version Control with Git and GitHub'],\n",
       "  'prefix': '10.1371',\n",
       "  'volume': '12',\n",
       "  'author': [{'given': 'John D.',\n",
       "    'family': 'Blischak',\n",
       "    'sequence': 'first',\n",
       "    'affiliation': []},\n",
       "   {'given': 'Emily R.',\n",
       "    'family': 'Davenport',\n",
       "    'sequence': 'additional',\n",
       "    'affiliation': []},\n",
       "   {'given': 'Greg',\n",
       "    'family': 'Wilson',\n",
       "    'sequence': 'additional',\n",
       "    'affiliation': []}],\n",
       "  'member': '340',\n",
       "  'published-online': {'date-parts': [[2016, 1, 19]]},\n",
       "  'reference': [{'key': 'ref1',\n",
       "    'doi-asserted-by': 'crossref',\n",
       "    'first-page': '7',\n",
       "    'DOI': '10.1186/1751-0473-8-7',\n",
       "    'article-title': 'Git can facilitate greater reproducibility and increased transparency in science',\n",
       "    'volume': '8',\n",
       "    'author': 'K Ram',\n",
       "    'year': '2013',\n",
       "    'journal-title': 'Source Code Biol Med'},\n",
       "   {'key': 'ref2',\n",
       "    'doi-asserted-by': 'crossref',\n",
       "    'first-page': 'e1001745',\n",
       "    'DOI': '10.1371/journal.pbio.1001745',\n",
       "    'article-title': 'Best practices for scientific computing',\n",
       "    'volume': '12',\n",
       "    'author': 'G Wilson',\n",
       "    'year': '2014',\n",
       "    'journal-title': 'PLoS Biol'},\n",
       "   {'key': 'ref3',\n",
       "    'doi-asserted-by': 'crossref',\n",
       "    'first-page': '57',\n",
       "    'DOI': '10.1038/nature11247',\n",
       "    'article-title': 'An integrated encyclopedia of DNA elements in the human genome',\n",
       "    'volume': '489',\n",
       "    'author': 'B Bernstein',\n",
       "    'year': '2012',\n",
       "    'journal-title': 'Nature'},\n",
       "   {'key': 'ref4',\n",
       "    'doi-asserted-by': 'crossref',\n",
       "    'first-page': 'e1003326',\n",
       "    'DOI': '10.1371/journal.pcbi.1003326',\n",
       "    'article-title': 'Practical guidelines for the comprehensive analysis of ChIP-seq data',\n",
       "    'volume': '9',\n",
       "    'author': 'T Bailey',\n",
       "    'year': '2013',\n",
       "    'journal-title': 'PLoS Comput Biol'},\n",
       "   {'key': 'ref5',\n",
       "    'doi-asserted-by': 'crossref',\n",
       "    'first-page': 'e1000424',\n",
       "    'DOI': '10.1371/journal.pcbi.1000424',\n",
       "    'article-title': 'A quick guide to organizing computational biology projects',\n",
       "    'volume': '5',\n",
       "    'author': 'W Noble',\n",
       "    'year': '2009',\n",
       "    'journal-title': 'PLoS Comput Biol'},\n",
       "   {'key': 'ref6',\n",
       "    'doi-asserted-by': 'crossref',\n",
       "    'first-page': 'e1002598',\n",
       "    'DOI': '10.1371/journal.pcbi.1002598',\n",
       "    'article-title': 'A quick guide to software licensing for the scientist-programmer',\n",
       "    'volume': '8',\n",
       "    'author': 'A Morin',\n",
       "    'year': '2012',\n",
       "    'journal-title': 'PLoS Comput Biol'}],\n",
       "  'container-title': ['PLOS Computational Biology'],\n",
       "  'original-title': [],\n",
       "  'language': 'en',\n",
       "  'link': [{'URL': 'http://dx.plos.org/10.1371/journal.pcbi.1004668',\n",
       "    'content-type': 'unspecified',\n",
       "    'content-version': 'vor',\n",
       "    'intended-application': 'similarity-checking'}],\n",
       "  'deposited': {'date-parts': [[2020, 5, 8]],\n",
       "   'date-time': '2020-05-08T21:36:54Z',\n",
       "   'timestamp': 1588973814000},\n",
       "  'score': 1,\n",
       "  'resource': {'primary': {'URL': 'https://dx.plos.org/10.1371/journal.pcbi.1004668'}},\n",
       "  'subtitle': [],\n",
       "  'editor': [{'given': 'Francis',\n",
       "    'family': 'Ouellette',\n",
       "    'sequence': 'first',\n",
       "    'affiliation': []}],\n",
       "  'short-title': [],\n",
       "  'issued': {'date-parts': [[2016, 1, 19]]},\n",
       "  'references-count': 6,\n",
       "  'journal-issue': {'issue': '1',\n",
       "   'published-online': {'date-parts': [[2016, 1, 19]]}},\n",
       "  'URL': 'http://dx.doi.org/10.1371/journal.pcbi.1004668',\n",
       "  'relation': {},\n",
       "  'ISSN': ['1553-7358'],\n",
       "  'issn-type': [{'value': '1553-7358', 'type': 'electronic'}],\n",
       "  'subject': ['Computational Theory and Mathematics',\n",
       "   'Cellular and Molecular Neuroscience',\n",
       "   'Genetics',\n",
       "   'Molecular Biology',\n",
       "   'Ecology',\n",
       "   'Modeling and Simulation',\n",
       "   'Ecology, Evolution, Behavior and Systematics'],\n",
       "  'published': {'date-parts': [[2016, 1, 19]]}}}"
      ]
     },
     "execution_count": 7,
     "metadata": {},
     "output_type": "execute_result"
    }
   ],
   "source": [
    "doi_dataset"
   ]
  },
  {
   "cell_type": "code",
   "execution_count": 8,
   "id": "6c02d4e1",
   "metadata": {},
   "outputs": [
    {
     "data": {
      "text/plain": [
       "dict_keys(['status', 'message-type', 'message-version', 'message'])"
      ]
     },
     "execution_count": 8,
     "metadata": {},
     "output_type": "execute_result"
    }
   ],
   "source": [
    "doi_dataset.keys ()"
   ]
  },
  {
   "cell_type": "code",
   "execution_count": 11,
   "id": "3666df1e",
   "metadata": {},
   "outputs": [
    {
     "ename": "HTTPError",
     "evalue": "HTTP Error 404: Not Found",
     "output_type": "error",
     "traceback": [
      "\u001b[0;31m---------------------------------------------------------------------------\u001b[0m",
      "\u001b[0;31mHTTPError\u001b[0m                                 Traceback (most recent call last)",
      "Cell \u001b[0;32mIn[11], line 4\u001b[0m\n\u001b[1;32m      1\u001b[0m \u001b[38;5;28;01mfor\u001b[39;00m doi \u001b[38;5;129;01min\u001b[39;00m doi_dataset:\n\u001b[1;32m      3\u001b[0m     full_url\u001b[38;5;241m=\u001b[39mbase_url\u001b[38;5;241m+\u001b[39mdoi\n\u001b[0;32m----> 4\u001b[0m     doi_json_dataset \u001b[38;5;241m=\u001b[39m urllib\u001b[38;5;241m.\u001b[39mrequest\u001b[38;5;241m.\u001b[39murlopen (full_url)\u001b[38;5;241m.\u001b[39mread()\n\u001b[1;32m      5\u001b[0m     doi_dataset \u001b[38;5;241m=\u001b[39m json\u001b[38;5;241m.\u001b[39mloads (doi_json_dataset) \n\u001b[1;32m      6\u001b[0m     \u001b[38;5;28mprint\u001b[39m (doi_dataset[\u001b[38;5;124m\"\u001b[39m\u001b[38;5;124mDOI\u001b[39m\u001b[38;5;124m\"\u001b[39m])\n",
      "File \u001b[0;32m~/anaconda3/lib/python3.11/urllib/request.py:216\u001b[0m, in \u001b[0;36murlopen\u001b[0;34m(url, data, timeout, cafile, capath, cadefault, context)\u001b[0m\n\u001b[1;32m    214\u001b[0m \u001b[38;5;28;01melse\u001b[39;00m:\n\u001b[1;32m    215\u001b[0m     opener \u001b[38;5;241m=\u001b[39m _opener\n\u001b[0;32m--> 216\u001b[0m \u001b[38;5;28;01mreturn\u001b[39;00m opener\u001b[38;5;241m.\u001b[39mopen(url, data, timeout)\n",
      "File \u001b[0;32m~/anaconda3/lib/python3.11/urllib/request.py:525\u001b[0m, in \u001b[0;36mOpenerDirector.open\u001b[0;34m(self, fullurl, data, timeout)\u001b[0m\n\u001b[1;32m    523\u001b[0m \u001b[38;5;28;01mfor\u001b[39;00m processor \u001b[38;5;129;01min\u001b[39;00m \u001b[38;5;28mself\u001b[39m\u001b[38;5;241m.\u001b[39mprocess_response\u001b[38;5;241m.\u001b[39mget(protocol, []):\n\u001b[1;32m    524\u001b[0m     meth \u001b[38;5;241m=\u001b[39m \u001b[38;5;28mgetattr\u001b[39m(processor, meth_name)\n\u001b[0;32m--> 525\u001b[0m     response \u001b[38;5;241m=\u001b[39m meth(req, response)\n\u001b[1;32m    527\u001b[0m \u001b[38;5;28;01mreturn\u001b[39;00m response\n",
      "File \u001b[0;32m~/anaconda3/lib/python3.11/urllib/request.py:634\u001b[0m, in \u001b[0;36mHTTPErrorProcessor.http_response\u001b[0;34m(self, request, response)\u001b[0m\n\u001b[1;32m    631\u001b[0m \u001b[38;5;66;03m# According to RFC 2616, \"2xx\" code indicates that the client's\u001b[39;00m\n\u001b[1;32m    632\u001b[0m \u001b[38;5;66;03m# request was successfully received, understood, and accepted.\u001b[39;00m\n\u001b[1;32m    633\u001b[0m \u001b[38;5;28;01mif\u001b[39;00m \u001b[38;5;129;01mnot\u001b[39;00m (\u001b[38;5;241m200\u001b[39m \u001b[38;5;241m<\u001b[39m\u001b[38;5;241m=\u001b[39m code \u001b[38;5;241m<\u001b[39m \u001b[38;5;241m300\u001b[39m):\n\u001b[0;32m--> 634\u001b[0m     response \u001b[38;5;241m=\u001b[39m \u001b[38;5;28mself\u001b[39m\u001b[38;5;241m.\u001b[39mparent\u001b[38;5;241m.\u001b[39merror(\n\u001b[1;32m    635\u001b[0m         \u001b[38;5;124m'\u001b[39m\u001b[38;5;124mhttp\u001b[39m\u001b[38;5;124m'\u001b[39m, request, response, code, msg, hdrs)\n\u001b[1;32m    637\u001b[0m \u001b[38;5;28;01mreturn\u001b[39;00m response\n",
      "File \u001b[0;32m~/anaconda3/lib/python3.11/urllib/request.py:563\u001b[0m, in \u001b[0;36mOpenerDirector.error\u001b[0;34m(self, proto, *args)\u001b[0m\n\u001b[1;32m    561\u001b[0m \u001b[38;5;28;01mif\u001b[39;00m http_err:\n\u001b[1;32m    562\u001b[0m     args \u001b[38;5;241m=\u001b[39m (\u001b[38;5;28mdict\u001b[39m, \u001b[38;5;124m'\u001b[39m\u001b[38;5;124mdefault\u001b[39m\u001b[38;5;124m'\u001b[39m, \u001b[38;5;124m'\u001b[39m\u001b[38;5;124mhttp_error_default\u001b[39m\u001b[38;5;124m'\u001b[39m) \u001b[38;5;241m+\u001b[39m orig_args\n\u001b[0;32m--> 563\u001b[0m     \u001b[38;5;28;01mreturn\u001b[39;00m \u001b[38;5;28mself\u001b[39m\u001b[38;5;241m.\u001b[39m_call_chain(\u001b[38;5;241m*\u001b[39margs)\n",
      "File \u001b[0;32m~/anaconda3/lib/python3.11/urllib/request.py:496\u001b[0m, in \u001b[0;36mOpenerDirector._call_chain\u001b[0;34m(self, chain, kind, meth_name, *args)\u001b[0m\n\u001b[1;32m    494\u001b[0m \u001b[38;5;28;01mfor\u001b[39;00m handler \u001b[38;5;129;01min\u001b[39;00m handlers:\n\u001b[1;32m    495\u001b[0m     func \u001b[38;5;241m=\u001b[39m \u001b[38;5;28mgetattr\u001b[39m(handler, meth_name)\n\u001b[0;32m--> 496\u001b[0m     result \u001b[38;5;241m=\u001b[39m func(\u001b[38;5;241m*\u001b[39margs)\n\u001b[1;32m    497\u001b[0m     \u001b[38;5;28;01mif\u001b[39;00m result \u001b[38;5;129;01mis\u001b[39;00m \u001b[38;5;129;01mnot\u001b[39;00m \u001b[38;5;28;01mNone\u001b[39;00m:\n\u001b[1;32m    498\u001b[0m         \u001b[38;5;28;01mreturn\u001b[39;00m result\n",
      "File \u001b[0;32m~/anaconda3/lib/python3.11/urllib/request.py:643\u001b[0m, in \u001b[0;36mHTTPDefaultErrorHandler.http_error_default\u001b[0;34m(self, req, fp, code, msg, hdrs)\u001b[0m\n\u001b[1;32m    642\u001b[0m \u001b[38;5;28;01mdef\u001b[39;00m \u001b[38;5;21mhttp_error_default\u001b[39m(\u001b[38;5;28mself\u001b[39m, req, fp, code, msg, hdrs):\n\u001b[0;32m--> 643\u001b[0m     \u001b[38;5;28;01mraise\u001b[39;00m HTTPError(req\u001b[38;5;241m.\u001b[39mfull_url, code, msg, hdrs, fp)\n",
      "\u001b[0;31mHTTPError\u001b[0m: HTTP Error 404: Not Found"
     ]
    }
   ],
   "source": [
    "for doi in doi_dataset:\n",
    "    \n",
    "    full_url=base_url+doi\n",
    "    doi_json_dataset = urllib.request.urlopen (full_url).read()\n",
    "    doi_dataset = json.loads (doi_json_dataset) \n",
    "    print (doi_dataset[\"DOI\"])\n",
    "    print (\"------------------------------------\")"
   ]
  },
  {
   "cell_type": "code",
   "execution_count": null,
   "id": "757750ed",
   "metadata": {},
   "outputs": [],
   "source": []
  }
 ],
 "metadata": {
  "kernelspec": {
   "display_name": "Python 3 (ipykernel)",
   "language": "python",
   "name": "python3"
  },
  "language_info": {
   "codemirror_mode": {
    "name": "ipython",
    "version": 3
   },
   "file_extension": ".py",
   "mimetype": "text/x-python",
   "name": "python",
   "nbconvert_exporter": "python",
   "pygments_lexer": "ipython3",
   "version": "3.11.5"
  }
 },
 "nbformat": 4,
 "nbformat_minor": 5
}
